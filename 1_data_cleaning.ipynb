{
 "cells": [
  {
   "cell_type": "markdown",
   "metadata": {},
   "source": [
    "# 1.1. log raw dataset"
   ]
  },
  {
   "cell_type": "code",
   "execution_count": 1,
   "metadata": {},
   "outputs": [],
   "source": [
    "import wandb\n",
    "from utils.wandb_utils import wandb_log_artifact, get_wandb_artifact"
   ]
  },
  {
   "cell_type": "code",
   "execution_count": 2,
   "metadata": {},
   "outputs": [
    {
     "name": "stderr",
     "output_type": "stream",
     "text": [
      "\u001b[34m\u001b[1mwandb\u001b[0m: Currently logged in as: \u001b[33mwg_lucas\u001b[0m. Use \u001b[1m`wandb login --relogin`\u001b[0m to force relogin\n"
     ]
    },
    {
     "data": {
      "text/html": [
       "wandb version 0.13.0 is available!  To upgrade, please run:\n",
       " $ pip install wandb --upgrade"
      ],
      "text/plain": [
       "<IPython.core.display.HTML object>"
      ]
     },
     "metadata": {},
     "output_type": "display_data"
    },
    {
     "data": {
      "text/html": [
       "Tracking run with wandb version 0.12.21"
      ],
      "text/plain": [
       "<IPython.core.display.HTML object>"
      ]
     },
     "metadata": {},
     "output_type": "display_data"
    },
    {
     "data": {
      "text/html": [
       "Run data is saved locally in <code>/Users/wg/dvlp/Lucas/tutorial_data_model_versioning_wandb/notebook/wandb/run-20220804_083952-12tmzry3</code>"
      ],
      "text/plain": [
       "<IPython.core.display.HTML object>"
      ]
     },
     "metadata": {},
     "output_type": "display_data"
    },
    {
     "data": {
      "text/html": [
       "Syncing run <strong><a href=\"https://wandb.ai/wg_lucas/ex_census_wandb/runs/12tmzry3\" target=\"_blank\">effortless-eon-2</a></strong> to <a href=\"https://wandb.ai/wg_lucas/ex_census_wandb\" target=\"_blank\">Weights & Biases</a> (<a href=\"https://wandb.me/run\" target=\"_blank\">docs</a>)<br/>"
      ],
      "text/plain": [
       "<IPython.core.display.HTML object>"
      ]
     },
     "metadata": {},
     "output_type": "display_data"
    }
   ],
   "source": [
    "# init wandb run\n",
    "run = wandb.init(project=\"ex_census_wandb\", job_type='upload_dataset')"
   ]
  },
  {
   "cell_type": "code",
   "execution_count": 3,
   "metadata": {},
   "outputs": [],
   "source": [
    "# log raw dataset\n",
    "wandb_log_artifact(run, \n",
    "                   artifact_name=\"census_raw\", \n",
    "                   description=\"raw data\",\n",
    "                   file_path=[\"./../dataset/census_raw.csv\"],\n",
    "                   remove_logged_file=False)"
   ]
  },
  {
   "cell_type": "markdown",
   "metadata": {},
   "source": [
    "# 1.2. 1st cleaning + log cleaned dataset"
   ]
  },
  {
   "cell_type": "code",
   "execution_count": 4,
   "metadata": {},
   "outputs": [],
   "source": [
    "import pandas as pd"
   ]
  },
  {
   "cell_type": "code",
   "execution_count": 5,
   "metadata": {},
   "outputs": [
    {
     "name": "stdout",
     "output_type": "stream",
     "text": [
      "./artifacts/census_raw:v0/census_raw.csv\n"
     ]
    }
   ],
   "source": [
    "# load raw dataset\n",
    "_, file_path = get_wandb_artifact(run,\n",
    "                               artifact_name=\"census_raw\", \n",
    "                               file_name=\"census_raw.csv\", \n",
    "                               tag=\"latest\")\n",
    "\n",
    "print(file_path)\n",
    "data = pd.read_csv(file_path, sep=',', encoding='utf-8')"
   ]
  },
  {
   "cell_type": "code",
   "execution_count": 6,
   "metadata": {},
   "outputs": [],
   "source": [
    "# cleaning column name, data\n",
    "data.columns = [c.strip() for c in data.columns]\n",
    "\n",
    "for col in data.columns:\n",
    "    if data[col].dtype == 'O':\n",
    "        data[col] = data[col].apply(lambda x: x.strip())\n",
    "        \n",
    "# convert ? to NA\n",
    "data.replace({\"?\": None}, inplace=True)"
   ]
  },
  {
   "cell_type": "code",
   "execution_count": 7,
   "metadata": {},
   "outputs": [],
   "source": [
    "# save + log dataset\n",
    "data.to_csv(\"./../dataset/census_cleaned.csv\", sep='\\t', encoding='utf-8', index=False)\n",
    "\n",
    "wandb_log_artifact(run, \n",
    "                   artifact_name=\"census_cleaned\", \n",
    "                   description=\"basic white space cleaning\",\n",
    "                   file_path=[\"./../dataset/census_cleaned.csv\"],\n",
    "                   remove_logged_file=True)\n",
    "\n",
    "# saved as census_cleaned:v0 in wandb"
   ]
  },
  {
   "cell_type": "markdown",
   "metadata": {},
   "source": [
    "# 1.3. profile dataset + 2nd cleaning + log dataset"
   ]
  },
  {
   "cell_type": "code",
   "execution_count": 8,
   "metadata": {},
   "outputs": [],
   "source": [
    "import pandas_profiling"
   ]
  },
  {
   "cell_type": "code",
   "execution_count": null,
   "metadata": {
    "scrolled": false
   },
   "outputs": [
    {
     "data": {
      "application/vnd.jupyter.widget-view+json": {
       "model_id": "b4dd1d9046104959ad5edd0ae38a02b5",
       "version_major": 2,
       "version_minor": 0
      },
      "text/plain": [
       "Summarize dataset:   0%|          | 0/5 [00:00<?, ?it/s]"
      ]
     },
     "metadata": {},
     "output_type": "display_data"
    }
   ],
   "source": [
    "profile = pandas_profiling.ProfileReport(data)\n",
    "profile.to_notebook_iframe()"
   ]
  },
  {
   "cell_type": "code",
   "execution_count": null,
   "metadata": {},
   "outputs": [],
   "source": [
    "# drop values that contains \"?\"\n",
    "data.dropna(inplace=True)\n",
    "\n",
    "# drop irrelevant value\n",
    "data.drop(columns=\"fnlgt\", inplace=True)\n",
    "\n",
    "# drop highly correlated numerical feature\n",
    "data.drop(columns=[\"education-num\"], inplace=True)\n",
    "\n",
    "# drop features with mostly zero\n",
    "data.drop(columns=[\"age\", \"capital-gain\", \"capital-loss\"], inplace=True)"
   ]
  },
  {
   "cell_type": "code",
   "execution_count": null,
   "metadata": {},
   "outputs": [],
   "source": [
    "# overwrite\n",
    "data.to_csv('./../dataset/census_cleaned.csv', sep='\\t', encoding='utf-8', index=False)"
   ]
  },
  {
   "cell_type": "code",
   "execution_count": null,
   "metadata": {},
   "outputs": [],
   "source": [
    "wandb_log_artifact(run, \n",
    "                   artifact_name=\"census_cleaned\", \n",
    "                   description=\"cleaning based on eda. null, zero dominant features, irrelevant feature, high correlation features\", \n",
    "                   file_path=[\"./../dataset/census_cleaned.csv\"],\n",
    "                   remove_logged_file=True)\n",
    "\n",
    "# saved as census_cleaned:v1 in wandb"
   ]
  },
  {
   "cell_type": "code",
   "execution_count": null,
   "metadata": {},
   "outputs": [],
   "source": [
    "run.finish()"
   ]
  },
  {
   "cell_type": "code",
   "execution_count": null,
   "metadata": {},
   "outputs": [],
   "source": []
  }
 ],
 "metadata": {
  "kernelspec": {
   "display_name": "Python 3 (ipykernel)",
   "language": "python",
   "name": "python3"
  },
  "language_info": {
   "codemirror_mode": {
    "name": "ipython",
    "version": 3
   },
   "file_extension": ".py",
   "mimetype": "text/x-python",
   "name": "python",
   "nbconvert_exporter": "python",
   "pygments_lexer": "ipython3",
   "version": "3.8.2"
  }
 },
 "nbformat": 4,
 "nbformat_minor": 1
}
