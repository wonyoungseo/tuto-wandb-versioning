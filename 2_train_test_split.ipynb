{
 "cells": [
  {
   "cell_type": "markdown",
   "id": "bd82cfe6",
   "metadata": {},
   "source": [
    "# 2.1. Download cleaned dataset"
   ]
  },
  {
   "cell_type": "code",
   "execution_count": null,
   "id": "315a9449",
   "metadata": {},
   "outputs": [],
   "source": [
    "import os\n",
    "import pandas as pd\n",
    "\n",
    "import wandb\n",
    "from ex_wandb.utils.wandb_utils import wandb_log_artifact, get_wandb_artifact"
   ]
  },
  {
   "cell_type": "code",
   "execution_count": null,
   "id": "b3c60b5f",
   "metadata": {},
   "outputs": [],
   "source": [
    "run = wandb.init(project='ex_census_wandb', job_type='data split')"
   ]
  },
  {
   "cell_type": "code",
   "execution_count": null,
   "id": "e3e6a77b",
   "metadata": {},
   "outputs": [],
   "source": [
    "_, file_path = get_wandb_artifact(run,\n",
    "                               artifact_name=\"census_cleaned\", \n",
    "                               file_name=\"census_cleaned.csv\", \n",
    "                               tag=\"latest\")\n",
    "\n",
    "print(file_path)"
   ]
  },
  {
   "cell_type": "code",
   "execution_count": null,
   "id": "10f362ea",
   "metadata": {},
   "outputs": [],
   "source": [
    "data = pd.read_csv(file_path, sep='\\t', encoding='utf-8')\n",
    "data"
   ]
  },
  {
   "cell_type": "markdown",
   "id": "33d36a72",
   "metadata": {},
   "source": [
    "# 2.2. Train / Test Split\n",
    "\n",
    "artifacts to log\n",
    "\n",
    "- train set\n",
    "- test set"
   ]
  },
  {
   "cell_type": "code",
   "execution_count": null,
   "id": "77037b10",
   "metadata": {},
   "outputs": [],
   "source": [
    "from sklearn.model_selection import train_test_split"
   ]
  },
  {
   "cell_type": "code",
   "execution_count": null,
   "id": "0cfece45",
   "metadata": {},
   "outputs": [],
   "source": [
    "# train / test split\n",
    "\n",
    "test_size = 0.2\n",
    "seed = 42\n",
    "train, test = train_test_split(data, test_size=test_size, random_state=seed)"
   ]
  },
  {
   "cell_type": "code",
   "execution_count": null,
   "id": "06fed3fc",
   "metadata": {},
   "outputs": [],
   "source": [
    "file_path = './../dataset/census_{}.csv'\n",
    "\n",
    "train_file_path = file_path.format('train')\n",
    "test_file_path = file_path.format('test')\n",
    "\n",
    "train.to_csv(train_file_path, sep='\\t', encoding='utf-8', index=False)\n",
    "test.to_csv(test_file_path, sep='\\t', encoding='utf-8', index=False)"
   ]
  },
  {
   "cell_type": "code",
   "execution_count": null,
   "id": "7884a976",
   "metadata": {},
   "outputs": [],
   "source": [
    "metadata = {\n",
    "    \"test_size\" : test_size,\n",
    "    \"random_state\" : seed\n",
    "}\n",
    "\n",
    "wandb_log_artifact(run, \"census_split\", \n",
    "                       description='splitted train/test',\n",
    "                       file_path=[train_file_path, test_file_path],\n",
    "                       artifact_type = \"data\",\n",
    "                       metadata = metadata,\n",
    "                       remove_logged_file=True)"
   ]
  },
  {
   "cell_type": "code",
   "execution_count": null,
   "id": "1c0396b6",
   "metadata": {},
   "outputs": [],
   "source": [
    "run.finish()"
   ]
  }
 ],
 "metadata": {
  "kernelspec": {
   "display_name": "Python 3 (ipykernel)",
   "language": "python",
   "name": "python3"
  },
  "language_info": {
   "codemirror_mode": {
    "name": "ipython",
    "version": 3
   },
   "file_extension": ".py",
   "mimetype": "text/x-python",
   "name": "python",
   "nbconvert_exporter": "python",
   "pygments_lexer": "ipython3",
   "version": "3.8.6"
  }
 },
 "nbformat": 4,
 "nbformat_minor": 5
}
