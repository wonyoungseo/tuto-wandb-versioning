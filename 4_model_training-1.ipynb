{
 "cells": [
  {
   "cell_type": "markdown",
   "id": "d42bffbc",
   "metadata": {},
   "source": [
    "# 4.1. load train/test data"
   ]
  },
  {
   "cell_type": "code",
   "execution_count": 1,
   "id": "0e69b68f",
   "metadata": {},
   "outputs": [],
   "source": [
    "import os\n",
    "import pandas as pd\n",
    "\n",
    "import wandb\n",
    "from ex_wandb.utils.wandb_utils import wandb_log_artifact, get_wandb_artifact\n",
    "\n",
    "from ex_wandb.ml_src.data import preprocess\n",
    "from ex_wandb.ml_src.model import train_model, inference, compute_model_metrics"
   ]
  },
  {
   "cell_type": "code",
   "execution_count": 2,
   "id": "4f0005da",
   "metadata": {},
   "outputs": [
    {
     "name": "stderr",
     "output_type": "stream",
     "text": [
      "\u001b[34m\u001b[1mwandb\u001b[0m: Currently logged in as: \u001b[33mwg_lucas\u001b[0m. Use \u001b[1m`wandb login --relogin`\u001b[0m to force relogin\n"
     ]
    },
    {
     "data": {
      "text/html": [
       "Tracking run with wandb version 0.12.21"
      ],
      "text/plain": [
       "<IPython.core.display.HTML object>"
      ]
     },
     "metadata": {},
     "output_type": "display_data"
    },
    {
     "data": {
      "text/html": [
       "Run data is saved locally in <code>/Users/wg/dvlp/Lucas/tuto_data_model_version/ex_wandb/notebook/wandb/run-20220802_164317-3fdm0zj0</code>"
      ],
      "text/plain": [
       "<IPython.core.display.HTML object>"
      ]
     },
     "metadata": {},
     "output_type": "display_data"
    },
    {
     "data": {
      "text/html": [
       "Syncing run <strong><a href=\"https://wandb.ai/wg_lucas/ex_census_wandb/runs/3fdm0zj0\" target=\"_blank\">good-pyramid-22</a></strong> to <a href=\"https://wandb.ai/wg_lucas/ex_census_wandb\" target=\"_blank\">Weights & Biases</a> (<a href=\"https://wandb.me/run\" target=\"_blank\">docs</a>)<br/>"
      ],
      "text/plain": [
       "<IPython.core.display.HTML object>"
      ]
     },
     "metadata": {},
     "output_type": "display_data"
    }
   ],
   "source": [
    "run = wandb.init(project='ex_census_wandb', job_type='model training')"
   ]
  },
  {
   "cell_type": "code",
   "execution_count": 3,
   "id": "0a408074",
   "metadata": {},
   "outputs": [
    {
     "name": "stdout",
     "output_type": "stream",
     "text": [
      "./artifacts/census_split:v0/census_train.csv\n",
      "./artifacts/census_split:v0/census_test.csv\n"
     ]
    }
   ],
   "source": [
    "_, train_file_path = get_wandb_artifact(run,\n",
    "                               artifact_name=\"census_split\", \n",
    "                               file_name=\"census_train.csv\", \n",
    "                               tag=\"latest\", \n",
    "                               artifact_type='data')\n",
    "\n",
    "_, test_file_path = get_wandb_artifact(run,\n",
    "                               artifact_name=\"census_split\", \n",
    "                               file_name=\"census_test.csv\", \n",
    "                               tag=\"latest\", \n",
    "                               artifact_type='data')\n",
    "\n",
    "print(train_file_path)\n",
    "print(test_file_path)\n",
    "\n",
    "train_df = pd.read_csv(train_file_path, sep='\\t', encoding='utf-8')\n",
    "test_df = pd.read_csv(test_file_path, sep='\\t', encoding='utf-8')"
   ]
  },
  {
   "cell_type": "markdown",
   "id": "2d37c42e",
   "metadata": {},
   "source": [
    "# 4.2. load feature engineering artifacts (encoder, label binarizer)"
   ]
  },
  {
   "cell_type": "code",
   "execution_count": 4,
   "id": "dfa05dc3",
   "metadata": {},
   "outputs": [],
   "source": [
    "from joblib import load"
   ]
  },
  {
   "cell_type": "code",
   "execution_count": 5,
   "id": "80ae0289",
   "metadata": {},
   "outputs": [],
   "source": [
    "encoder_artifact, encoder_path = get_wandb_artifact(run,\n",
    "                               artifact_name=\"feature_engineering\", \n",
    "                               file_name=\"encoder.joblib\", \n",
    "                               tag=\"latest\", \n",
    "                               artifact_type='feature_engineering_artifact')"
   ]
  },
  {
   "cell_type": "code",
   "execution_count": 6,
   "id": "29d2beea",
   "metadata": {},
   "outputs": [],
   "source": [
    "lb_artifact, lb_path = get_wandb_artifact(run,\n",
    "                               artifact_name=\"feature_engineering\", \n",
    "                               file_name=\"lb.joblib\", \n",
    "                               tag=\"latest\", \n",
    "                               artifact_type='feature_engineering_artifact')"
   ]
  },
  {
   "cell_type": "code",
   "execution_count": 7,
   "id": "b614a0a7",
   "metadata": {},
   "outputs": [],
   "source": [
    "cat_features = encoder_artifact.metadata['categorical_feature']\n",
    "label = encoder_artifact.metadata['label']"
   ]
  },
  {
   "cell_type": "markdown",
   "id": "5c254711",
   "metadata": {},
   "source": [
    "# 4.3. Train model"
   ]
  },
  {
   "cell_type": "code",
   "execution_count": 8,
   "id": "51fff46a",
   "metadata": {},
   "outputs": [],
   "source": [
    "parameters = {\n",
    "    \"n_estimators\": 300,\n",
    "    \"min_samples_split\": 5,\n",
    "    \"min_samples_leaf\": 2,\n",
    "    \"max_features\": \"sqrt\",\n",
    "    \"max_depth\": 100,\n",
    "    \"criterion\": \"gini\",\n",
    "    \"bootstrap\": False,\n",
    "}"
   ]
  },
  {
   "cell_type": "code",
   "execution_count": 9,
   "id": "51440eee",
   "metadata": {},
   "outputs": [],
   "source": [
    "X_train, y_train, encoder, lb = preprocess(train_df, categorical_features=cat_features, label=label, training=True)\n",
    "X_test, y_test, _, _ = preprocess(test_df, categorical_features=cat_features, label=label, training=False, encoder=encoder, lb=lb)"
   ]
  },
  {
   "cell_type": "code",
   "execution_count": 10,
   "id": "d37261fc",
   "metadata": {},
   "outputs": [],
   "source": [
    "model = train_model(X_train, y_train, params=parameters)"
   ]
  },
  {
   "cell_type": "markdown",
   "id": "fa5c4d2b",
   "metadata": {},
   "source": [
    "# 4.4. log model configs + parameters + performance"
   ]
  },
  {
   "cell_type": "code",
   "execution_count": 11,
   "id": "e51cd643",
   "metadata": {},
   "outputs": [
    {
     "name": "stdout",
     "output_type": "stream",
     "text": [
      "0.7052117263843648 0.5660130718954248 0.6279912980420596\n"
     ]
    }
   ],
   "source": [
    "preds = inference(model, X_test)\n",
    "precision, recall, fbeta = compute_model_metrics(y_test, preds)\n",
    "print(precision, recall, fbeta)"
   ]
  },
  {
   "cell_type": "code",
   "execution_count": 12,
   "id": "2929476b",
   "metadata": {},
   "outputs": [],
   "source": [
    "metadata = {\n",
    "    \"categorical_feature\": cat_features,\n",
    "    \"label\" : label,\n",
    "    \"param\": parameters,\n",
    "    \"train_data_path\" : train_file_path,\n",
    "    \"test_data_path\" : test_file_path,\n",
    "    \"encoder\" : encoder_path,\n",
    "    \"lable_binarizer\" : lb_path\n",
    "}"
   ]
  },
  {
   "cell_type": "code",
   "execution_count": 13,
   "id": "be4652c4",
   "metadata": {},
   "outputs": [],
   "source": [
    "run.config.update(metadata)"
   ]
  },
  {
   "cell_type": "code",
   "execution_count": 14,
   "id": "145b991a",
   "metadata": {},
   "outputs": [],
   "source": [
    "run.summary['precision'] = precision\n",
    "run.summary['recall'] = recall\n",
    "run.summary['fbeta'] = fbeta"
   ]
  },
  {
   "cell_type": "markdown",
   "id": "9da35ee8",
   "metadata": {},
   "source": [
    "# 4. 5. save model artifact"
   ]
  },
  {
   "cell_type": "code",
   "execution_count": 15,
   "id": "49bd77e5",
   "metadata": {},
   "outputs": [],
   "source": [
    "from joblib import dump"
   ]
  },
  {
   "cell_type": "code",
   "execution_count": 16,
   "id": "6673049b",
   "metadata": {},
   "outputs": [
    {
     "data": {
      "text/plain": [
       "['./../model/model.joblib']"
      ]
     },
     "execution_count": 16,
     "metadata": {},
     "output_type": "execute_result"
    }
   ],
   "source": [
    "model_file_path = \"./../model/model.joblib\"\n",
    "\n",
    "dump(model, model_file_path)"
   ]
  },
  {
   "cell_type": "code",
   "execution_count": 17,
   "id": "673bdccb",
   "metadata": {},
   "outputs": [],
   "source": [
    "wandb_log_artifact(run, \"model\", \n",
    "                   description=\"baseline RandomForest model\", \n",
    "                   file_path=[model_file_path],\n",
    "                   artifact_type=\"model_artifact\",\n",
    "                   remove_logged_file=True)"
   ]
  },
  {
   "cell_type": "code",
   "execution_count": 18,
   "id": "310b3b31",
   "metadata": {},
   "outputs": [
    {
     "data": {
      "text/html": [
       "Waiting for W&B process to finish... <strong style=\"color:green\">(success).</strong>"
      ],
      "text/plain": [
       "<IPython.core.display.HTML object>"
      ]
     },
     "metadata": {},
     "output_type": "display_data"
    },
    {
     "data": {
      "application/vnd.jupyter.widget-view+json": {
       "model_id": "",
       "version_major": 2,
       "version_minor": 0
      },
      "text/plain": [
       "VBox(children=(Label(value='57.520 MB of 57.520 MB uploaded (0.000 MB deduped)\\r'), FloatProgress(value=1.0, m…"
      ]
     },
     "metadata": {},
     "output_type": "display_data"
    },
    {
     "data": {
      "text/html": [
       "<style>\n",
       "    table.wandb td:nth-child(1) { padding: 0 10px; text-align: left ; width: auto;} td:nth-child(2) {text-align: left ; width: 100%}\n",
       "    .wandb-row { display: flex; flex-direction: row; flex-wrap: wrap; justify-content: flex-start; width: 100% }\n",
       "    .wandb-col { display: flex; flex-direction: column; flex-basis: 100%; flex: 1; padding: 10px; }\n",
       "    </style>\n",
       "<div class=\"wandb-row\"><div class=\"wandb-col\"><h3>Run summary:</h3><br/><table class=\"wandb\"><tr><td>fbeta</td><td>0.62799</td></tr><tr><td>precision</td><td>0.70521</td></tr><tr><td>recall</td><td>0.56601</td></tr></table><br/></div></div>"
      ],
      "text/plain": [
       "<IPython.core.display.HTML object>"
      ]
     },
     "metadata": {},
     "output_type": "display_data"
    },
    {
     "data": {
      "text/html": [
       "Synced <strong style=\"color:#cdcd00\">good-pyramid-22</strong>: <a href=\"https://wandb.ai/wg_lucas/ex_census_wandb/runs/3fdm0zj0\" target=\"_blank\">https://wandb.ai/wg_lucas/ex_census_wandb/runs/3fdm0zj0</a><br/>Synced 5 W&B file(s), 0 media file(s), 1 artifact file(s) and 0 other file(s)"
      ],
      "text/plain": [
       "<IPython.core.display.HTML object>"
      ]
     },
     "metadata": {},
     "output_type": "display_data"
    },
    {
     "data": {
      "text/html": [
       "Find logs at: <code>./wandb/run-20220802_164317-3fdm0zj0/logs</code>"
      ],
      "text/plain": [
       "<IPython.core.display.HTML object>"
      ]
     },
     "metadata": {},
     "output_type": "display_data"
    }
   ],
   "source": [
    "run.finish()"
   ]
  },
  {
   "cell_type": "code",
   "execution_count": null,
   "id": "ad013491",
   "metadata": {},
   "outputs": [],
   "source": []
  }
 ],
 "metadata": {
  "kernelspec": {
   "display_name": "Python 3 (ipykernel)",
   "language": "python",
   "name": "python3"
  },
  "language_info": {
   "codemirror_mode": {
    "name": "ipython",
    "version": 3
   },
   "file_extension": ".py",
   "mimetype": "text/x-python",
   "name": "python",
   "nbconvert_exporter": "python",
   "pygments_lexer": "ipython3",
   "version": "3.8.6"
  }
 },
 "nbformat": 4,
 "nbformat_minor": 5
}
