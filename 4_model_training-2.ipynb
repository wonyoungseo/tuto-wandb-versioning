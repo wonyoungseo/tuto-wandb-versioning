{
 "cells": [
  {
   "cell_type": "markdown",
   "id": "c53f1f3a",
   "metadata": {},
   "source": [
    "# 4.1. load train/test data"
   ]
  },
  {
   "cell_type": "code",
   "execution_count": null,
   "id": "0e69b68f",
   "metadata": {},
   "outputs": [],
   "source": [
    "import os\n",
    "import pandas as pd\n",
    "\n",
    "import wandb\n",
    "from utils.wandb_utils import wandb_log_artifact, get_wandb_artifact\n",
    "\n",
    "from ml_src.data import preprocess\n",
    "from ml_src.model import train_model, inference, compute_model_metrics"
   ]
  },
  {
   "cell_type": "code",
   "execution_count": null,
   "id": "4f0005da",
   "metadata": {},
   "outputs": [],
   "source": [
    "run = wandb.init(project='ex_census_wandb', job_type='model training')"
   ]
  },
  {
   "cell_type": "code",
   "execution_count": null,
   "id": "0a408074",
   "metadata": {},
   "outputs": [],
   "source": [
    "_, train_file_path = get_wandb_artifact(run,\n",
    "                               artifact_name=\"census_split\", \n",
    "                               file_name=\"census_train.csv\", \n",
    "                               tag=\"latest\", \n",
    "                               artifact_type='data')\n",
    "\n",
    "_, test_file_path = get_wandb_artifact(run,\n",
    "                               artifact_name=\"census_split\", \n",
    "                               file_name=\"census_test.csv\", \n",
    "                               tag=\"latest\", \n",
    "                               artifact_type='data')\n",
    "\n",
    "print(train_file_path)\n",
    "print(test_file_path)\n",
    "\n",
    "train_df = pd.read_csv(train_file_path, sep='\\t', encoding='utf-8')\n",
    "test_df = pd.read_csv(test_file_path, sep='\\t', encoding='utf-8')"
   ]
  },
  {
   "cell_type": "markdown",
   "id": "2401a289",
   "metadata": {},
   "source": [
    "# 4.2. load feature engineering artifacts (encoder, label binarizer)"
   ]
  },
  {
   "cell_type": "code",
   "execution_count": null,
   "id": "649bfae1",
   "metadata": {},
   "outputs": [],
   "source": [
    "from joblib import load"
   ]
  },
  {
   "cell_type": "code",
   "execution_count": null,
   "id": "6e6fbb55",
   "metadata": {},
   "outputs": [],
   "source": [
    "encoder_artifact, encoder_path = get_wandb_artifact(run,\n",
    "                               artifact_name=\"feature_engineering\", \n",
    "                               file_name=\"encoder.joblib\", \n",
    "                               tag=\"latest\", \n",
    "                               artifact_type='feature_engineering_artifact')"
   ]
  },
  {
   "cell_type": "code",
   "execution_count": null,
   "id": "a38780ad",
   "metadata": {},
   "outputs": [],
   "source": [
    "lb_artifact, lb_path = get_wandb_artifact(run,\n",
    "                               artifact_name=\"feature_engineering\", \n",
    "                               file_name=\"lb.joblib\", \n",
    "                               tag=\"latest\", \n",
    "                               artifact_type='feature_engineering_artifact')"
   ]
  },
  {
   "cell_type": "code",
   "execution_count": null,
   "id": "ce86833b",
   "metadata": {},
   "outputs": [],
   "source": [
    "encoder = load(encoder_path)\n",
    "lb = load(lb_path)"
   ]
  },
  {
   "cell_type": "code",
   "execution_count": null,
   "id": "64e065e0",
   "metadata": {},
   "outputs": [],
   "source": [
    "cat_features = encoder_artifact.metadata['categorical_feature']\n",
    "label = encoder_artifact.metadata['label']"
   ]
  },
  {
   "cell_type": "markdown",
   "id": "21eece0d",
   "metadata": {},
   "source": [
    "# 4.3. Train model"
   ]
  },
  {
   "cell_type": "code",
   "execution_count": null,
   "id": "51fff46a",
   "metadata": {},
   "outputs": [],
   "source": [
    "parameters = {\n",
    "    \"n_estimators\": 500,\n",
    "    \"min_samples_split\": 3,\n",
    "    \"min_samples_leaf\": 2,\n",
    "    \"max_features\": \"sqrt\",\n",
    "    \"max_depth\": 200,\n",
    "    \"criterion\": \"gini\",\n",
    "    \"bootstrap\": True,\n",
    "}"
   ]
  },
  {
   "cell_type": "code",
   "execution_count": null,
   "id": "51440eee",
   "metadata": {},
   "outputs": [],
   "source": [
    "X_train, y_train, encoder, lb = preprocess(train_df, categorical_features=cat_features, label=label, training=True)\n",
    "X_test, y_test, _, _ = preprocess(test_df, categorical_features=cat_features, label=label, training=False, encoder=encoder, lb=lb)"
   ]
  },
  {
   "cell_type": "code",
   "execution_count": null,
   "id": "d37261fc",
   "metadata": {},
   "outputs": [],
   "source": [
    "model = train_model(X_train, y_train, params=parameters)"
   ]
  },
  {
   "cell_type": "markdown",
   "id": "fa5c4d2b",
   "metadata": {},
   "source": [
    "# 4.4. log model configs + parameters + performance"
   ]
  },
  {
   "cell_type": "code",
   "execution_count": null,
   "id": "e51cd643",
   "metadata": {},
   "outputs": [],
   "source": [
    "preds = inference(model, X_test)\n",
    "precision, recall, fbeta = compute_model_metrics(y_test, preds)\n",
    "print(precision, recall, fbeta)"
   ]
  },
  {
   "cell_type": "code",
   "execution_count": null,
   "id": "3a5d3987",
   "metadata": {},
   "outputs": [],
   "source": [
    "metadata = {\n",
    "    \"categorical_feature\": cat_features,\n",
    "    \"label\" : label,\n",
    "    \"param\": parameters,\n",
    "    \"train_data_path\" : train_file_path,\n",
    "    \"test_data_path\" : test_file_path,\n",
    "    \"encoder\" : encoder_path,\n",
    "    \"lable_binarizer\" : lb_path\n",
    "}"
   ]
  },
  {
   "cell_type": "code",
   "execution_count": null,
   "id": "e4abcd99",
   "metadata": {},
   "outputs": [],
   "source": [
    "run.config.update(metadata)"
   ]
  },
  {
   "cell_type": "code",
   "execution_count": null,
   "id": "145b991a",
   "metadata": {},
   "outputs": [],
   "source": [
    "run.summary['precision'] = precision\n",
    "run.summary['recall'] = recall\n",
    "run.summary['fbeta'] = fbeta"
   ]
  },
  {
   "cell_type": "markdown",
   "id": "a7fcc9a7",
   "metadata": {},
   "source": [
    "# 4. 5. save model artifact"
   ]
  },
  {
   "cell_type": "code",
   "execution_count": null,
   "id": "49bd77e5",
   "metadata": {},
   "outputs": [],
   "source": [
    "from joblib import dump"
   ]
  },
  {
   "cell_type": "code",
   "execution_count": null,
   "id": "6673049b",
   "metadata": {},
   "outputs": [],
   "source": [
    "model_file_path = \"./model/model.joblib\"\n",
    "\n",
    "dump(model, model_file_path)"
   ]
  },
  {
   "cell_type": "code",
   "execution_count": null,
   "id": "673bdccb",
   "metadata": {},
   "outputs": [],
   "source": [
    "wandb_log_artifact(run, \"model\", \n",
    "                   description=\"baseline RandomForest model\", \n",
    "                   file_path=[model_file_path],\n",
    "                   artifact_type=\"model_artifact\",\n",
    "                   remove_logged_file=True)"
   ]
  },
  {
   "cell_type": "code",
   "execution_count": null,
   "id": "310b3b31",
   "metadata": {},
   "outputs": [],
   "source": [
    "run.finish()"
   ]
  },
  {
   "cell_type": "code",
   "execution_count": null,
   "id": "fc4bd341",
   "metadata": {},
   "outputs": [],
   "source": []
  }
 ],
 "metadata": {
  "kernelspec": {
   "display_name": "Python 3 (ipykernel)",
   "language": "python",
   "name": "python3"
  },
  "language_info": {
   "codemirror_mode": {
    "name": "ipython",
    "version": 3
   },
   "file_extension": ".py",
   "mimetype": "text/x-python",
   "name": "python",
   "nbconvert_exporter": "python",
   "pygments_lexer": "ipython3",
   "version": "3.8.2"
  }
 },
 "nbformat": 4,
 "nbformat_minor": 5
}
