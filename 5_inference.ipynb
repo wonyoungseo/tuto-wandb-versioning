{
 "cells": [
  {
   "cell_type": "markdown",
   "id": "19b63204",
   "metadata": {},
   "source": [
    "# 5.1. download `production` artifacts"
   ]
  },
  {
   "cell_type": "code",
   "execution_count": null,
   "id": "9facec35",
   "metadata": {},
   "outputs": [],
   "source": [
    "import os\n",
    "import pandas as pd\n",
    "from joblib import load\n",
    "\n",
    "import wandb\n",
    "from utils.wandb_utils import get_wandb_artifact\n",
    "\n",
    "from ml_src.data import preprocess\n",
    "from ml_src.model import inference"
   ]
  },
  {
   "cell_type": "code",
   "execution_count": null,
   "id": "dd9ca271",
   "metadata": {},
   "outputs": [],
   "source": [
    "run = wandb.init(project='ex_census_wandb', job_type='fetch prod model')"
   ]
  },
  {
   "cell_type": "code",
   "execution_count": null,
   "id": "1a881655",
   "metadata": {},
   "outputs": [],
   "source": [
    "model_artifact, model_path = get_wandb_artifact(run,\n",
    "                               artifact_name=\"model\", \n",
    "                               file_name=\"model.joblib\", \n",
    "                               tag=\"prod\", \n",
    "                               artifact_type='model_artifact')\n",
    "\n",
    "encoder_artifact, encoder_path = get_wandb_artifact(run,\n",
    "                               artifact_name=\"feature_engineering\", \n",
    "                               file_name=\"encoder.joblib\", \n",
    "                               tag=\"prod\", \n",
    "                               artifact_type='feature_engineering_artifact')\n",
    "\n",
    "lb_artifact, lb_path = get_wandb_artifact(run,\n",
    "                               artifact_name=\"feature_engineering\", \n",
    "                               file_name=\"lb.joblib\", \n",
    "                               tag=\"prod\", \n",
    "                               artifact_type='feature_engineering_artifact')\n",
    "\n",
    "cat_features = encoder_artifact.metadata['categorical_feature']\n",
    "label = encoder_artifact.metadata['label']"
   ]
  },
  {
   "cell_type": "code",
   "execution_count": null,
   "id": "cd197d62",
   "metadata": {},
   "outputs": [],
   "source": [
    "run.finish()"
   ]
  },
  {
   "cell_type": "markdown",
   "id": "c24d468e",
   "metadata": {},
   "source": [
    "# 5.2. execute inference on new data"
   ]
  },
  {
   "cell_type": "code",
   "execution_count": null,
   "id": "b1f20ea7",
   "metadata": {},
   "outputs": [],
   "source": [
    "model = load(model_path)\n",
    "encoder = load(encoder_path)\n",
    "lb = load(lb_path)"
   ]
  },
  {
   "cell_type": "code",
   "execution_count": null,
   "id": "4f149a50",
   "metadata": {},
   "outputs": [],
   "source": [
    "new_data = {\"workclass\": \"Private\",\n",
    "            \"education\": \"Doctorate\",\n",
    "            \"marital-status\": \"Married-civ-spouse\",\n",
    "            \"occupation\": \"Prof-specialty\",\n",
    "            \"relationship\": \"Husband\",\n",
    "            \"race\": \"White\",\n",
    "            \"sex\": \"Male\",\n",
    "            \"native-country\": \"United-States\",\n",
    "            \"hours-per-week\": 60}\n",
    "\n",
    "new_data = pd.DataFrame.from_dict(new_data, orient='index').T"
   ]
  },
  {
   "cell_type": "code",
   "execution_count": null,
   "id": "97a1c00a",
   "metadata": {},
   "outputs": [],
   "source": [
    "X_test, _, _, _ = preprocess(X=new_data, \n",
    "                             categorical_features=cat_features, \n",
    "                             training=False, \n",
    "                             encoder=encoder, \n",
    "                             lb=lb)"
   ]
  },
  {
   "cell_type": "code",
   "execution_count": null,
   "id": "c26b41eb",
   "metadata": {},
   "outputs": [],
   "source": [
    "preds = inference(model, X_test)"
   ]
  },
  {
   "cell_type": "code",
   "execution_count": null,
   "id": "1725e09c",
   "metadata": {},
   "outputs": [],
   "source": [
    "output = lb.inverse_transform(preds)[0]\n",
    "print(output)"
   ]
  }
 ],
 "metadata": {
  "kernelspec": {
   "display_name": "Python 3 (ipykernel)",
   "language": "python",
   "name": "python3"
  },
  "language_info": {
   "codemirror_mode": {
    "name": "ipython",
    "version": 3
   },
   "file_extension": ".py",
   "mimetype": "text/x-python",
   "name": "python",
   "nbconvert_exporter": "python",
   "pygments_lexer": "ipython3",
   "version": "3.8.2"
  }
 },
 "nbformat": 4,
 "nbformat_minor": 5
}
