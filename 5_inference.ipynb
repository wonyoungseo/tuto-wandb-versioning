{
 "cells": [
  {
   "cell_type": "markdown",
   "id": "19b63204",
   "metadata": {},
   "source": [
    "# 5.1. download `production` artifacts"
   ]
  },
  {
   "cell_type": "code",
   "execution_count": 1,
   "id": "9facec35",
   "metadata": {},
   "outputs": [],
   "source": [
    "import os\n",
    "import pandas as pd\n",
    "from joblib import load\n",
    "\n",
    "import wandb\n",
    "from ex_wandb.utils.wandb_utils import get_wandb_artifact\n",
    "\n",
    "from ex_wandb.ml_src.data import preprocess\n",
    "from ex_wandb.ml_src.model import inference"
   ]
  },
  {
   "cell_type": "code",
   "execution_count": 2,
   "id": "dd9ca271",
   "metadata": {},
   "outputs": [
    {
     "name": "stderr",
     "output_type": "stream",
     "text": [
      "\u001b[34m\u001b[1mwandb\u001b[0m: Currently logged in as: \u001b[33mwg_lucas\u001b[0m. Use \u001b[1m`wandb login --relogin`\u001b[0m to force relogin\n"
     ]
    },
    {
     "data": {
      "text/html": [
       "Tracking run with wandb version 0.12.21"
      ],
      "text/plain": [
       "<IPython.core.display.HTML object>"
      ]
     },
     "metadata": {},
     "output_type": "display_data"
    },
    {
     "data": {
      "text/html": [
       "Run data is saved locally in <code>/Users/wg/dvlp/Lucas/tuto_data_model_version/ex_wandb/notebook/wandb/run-20220802_173001-7dz1u30y</code>"
      ],
      "text/plain": [
       "<IPython.core.display.HTML object>"
      ]
     },
     "metadata": {},
     "output_type": "display_data"
    },
    {
     "data": {
      "text/html": [
       "Syncing run <strong><a href=\"https://wandb.ai/wg_lucas/ex_census_wandb/runs/7dz1u30y\" target=\"_blank\">driven-dust-26</a></strong> to <a href=\"https://wandb.ai/wg_lucas/ex_census_wandb\" target=\"_blank\">Weights & Biases</a> (<a href=\"https://wandb.me/run\" target=\"_blank\">docs</a>)<br/>"
      ],
      "text/plain": [
       "<IPython.core.display.HTML object>"
      ]
     },
     "metadata": {},
     "output_type": "display_data"
    }
   ],
   "source": [
    "run = wandb.init(project='ex_census_wandb', job_type='inference testing')"
   ]
  },
  {
   "cell_type": "code",
   "execution_count": 3,
   "id": "1a881655",
   "metadata": {},
   "outputs": [
    {
     "name": "stderr",
     "output_type": "stream",
     "text": [
      "\u001b[34m\u001b[1mwandb\u001b[0m: Downloading large artifact model:prod, 68.62MB. 1 files... Done. 0:0:0.0\n"
     ]
    }
   ],
   "source": [
    "model_artifact, model_path = get_wandb_artifact(run,\n",
    "                               artifact_name=\"model\", \n",
    "                               file_name=\"model.joblib\", \n",
    "                               tag=\"prod\", \n",
    "                               artifact_type='model_artifact')\n",
    "\n",
    "encoder_artifact, encoder_path = get_wandb_artifact(run,\n",
    "                               artifact_name=\"feature_engineering\", \n",
    "                               file_name=\"encoder.joblib\", \n",
    "                               tag=\"prod\", \n",
    "                               artifact_type='feature_engineering_artifact')\n",
    "\n",
    "lb_artifact, lb_path = get_wandb_artifact(run,\n",
    "                               artifact_name=\"feature_engineering\", \n",
    "                               file_name=\"lb.joblib\", \n",
    "                               tag=\"prod\", \n",
    "                               artifact_type='feature_engineering_artifact')\n",
    "\n",
    "cat_features = encoder_artifact.metadata['categorical_feature']\n",
    "label = encoder_artifact.metadata['label']"
   ]
  },
  {
   "cell_type": "code",
   "execution_count": 4,
   "id": "cd197d62",
   "metadata": {},
   "outputs": [
    {
     "data": {
      "text/html": [
       "Waiting for W&B process to finish... <strong style=\"color:green\">(success).</strong>"
      ],
      "text/plain": [
       "<IPython.core.display.HTML object>"
      ]
     },
     "metadata": {},
     "output_type": "display_data"
    },
    {
     "data": {
      "application/vnd.jupyter.widget-view+json": {
       "model_id": "",
       "version_major": 2,
       "version_minor": 0
      },
      "text/plain": [
       "VBox(children=(Label(value='0.001 MB of 0.001 MB uploaded (0.000 MB deduped)\\r'), FloatProgress(value=1.0, max…"
      ]
     },
     "metadata": {},
     "output_type": "display_data"
    },
    {
     "data": {
      "text/html": [
       "Synced <strong style=\"color:#cdcd00\">driven-dust-26</strong>: <a href=\"https://wandb.ai/wg_lucas/ex_census_wandb/runs/7dz1u30y\" target=\"_blank\">https://wandb.ai/wg_lucas/ex_census_wandb/runs/7dz1u30y</a><br/>Synced 5 W&B file(s), 0 media file(s), 0 artifact file(s) and 0 other file(s)"
      ],
      "text/plain": [
       "<IPython.core.display.HTML object>"
      ]
     },
     "metadata": {},
     "output_type": "display_data"
    },
    {
     "data": {
      "text/html": [
       "Find logs at: <code>./wandb/run-20220802_173001-7dz1u30y/logs</code>"
      ],
      "text/plain": [
       "<IPython.core.display.HTML object>"
      ]
     },
     "metadata": {},
     "output_type": "display_data"
    }
   ],
   "source": [
    "run.finish()"
   ]
  },
  {
   "cell_type": "markdown",
   "id": "c24d468e",
   "metadata": {},
   "source": [
    "# 5.2. execute inference on new data"
   ]
  },
  {
   "cell_type": "code",
   "execution_count": 5,
   "id": "b1f20ea7",
   "metadata": {},
   "outputs": [],
   "source": [
    "model = load(model_path)\n",
    "encoder = load(encoder_path)\n",
    "lb = load(lb_path)"
   ]
  },
  {
   "cell_type": "code",
   "execution_count": 6,
   "id": "4f149a50",
   "metadata": {},
   "outputs": [],
   "source": [
    "new_data = {\"workclass\": \"Private\",\n",
    "            \"education\": \"Doctorate\",\n",
    "            \"marital-status\": \"Married-civ-spouse\",\n",
    "            \"occupation\": \"Prof-specialty\",\n",
    "            \"relationship\": \"Husband\",\n",
    "            \"race\": \"White\",\n",
    "            \"sex\": \"Male\",\n",
    "            \"native-country\": \"United-States\",\n",
    "            \"hours-per-week\": 60}\n",
    "\n",
    "new_data = pd.DataFrame.from_dict(new_data, orient='index').T"
   ]
  },
  {
   "cell_type": "code",
   "execution_count": 7,
   "id": "97a1c00a",
   "metadata": {},
   "outputs": [],
   "source": [
    "X_test, _, _, _ = preprocess(X=new_data, \n",
    "                             categorical_features=cat_features, \n",
    "                             training=False, \n",
    "                             encoder=encoder, \n",
    "                             lb=lb)"
   ]
  },
  {
   "cell_type": "code",
   "execution_count": 8,
   "id": "c26b41eb",
   "metadata": {},
   "outputs": [],
   "source": [
    "preds = inference(model, X_test)"
   ]
  },
  {
   "cell_type": "code",
   "execution_count": 9,
   "id": "1725e09c",
   "metadata": {},
   "outputs": [
    {
     "name": "stdout",
     "output_type": "stream",
     "text": [
      ">50K\n"
     ]
    }
   ],
   "source": [
    "output = lb.inverse_transform(preds)[0]\n",
    "print(output)"
   ]
  }
 ],
 "metadata": {
  "kernelspec": {
   "display_name": "Python 3 (ipykernel)",
   "language": "python",
   "name": "python3"
  },
  "language_info": {
   "codemirror_mode": {
    "name": "ipython",
    "version": 3
   },
   "file_extension": ".py",
   "mimetype": "text/x-python",
   "name": "python",
   "nbconvert_exporter": "python",
   "pygments_lexer": "ipython3",
   "version": "3.8.6"
  }
 },
 "nbformat": 4,
 "nbformat_minor": 5
}
