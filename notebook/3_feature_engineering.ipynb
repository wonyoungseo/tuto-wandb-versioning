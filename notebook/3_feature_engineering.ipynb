{
 "cells": [
  {
   "cell_type": "markdown",
   "id": "8ca932c7",
   "metadata": {},
   "source": [
    "# 3.1. load train/test data"
   ]
  },
  {
   "cell_type": "code",
   "execution_count": null,
   "id": "0e69b68f",
   "metadata": {},
   "outputs": [],
   "source": [
    "import os\n",
    "import pandas as pd\n",
    "\n",
    "import wandb\n",
    "from ex_wandb.utils.wandb_utils import wandb_log_artifact, get_wandb_artifact\n",
    "\n",
    "from ex_wandb.ml_src.data import preprocess"
   ]
  },
  {
   "cell_type": "code",
   "execution_count": null,
   "id": "4f0005da",
   "metadata": {},
   "outputs": [],
   "source": [
    "run = wandb.init(project='ex_census_wandb', job_type='feature engineering')"
   ]
  },
  {
   "cell_type": "code",
   "execution_count": null,
   "id": "0a408074",
   "metadata": {},
   "outputs": [],
   "source": [
    "_, train_file_path = get_wandb_artifact(run,\n",
    "                               artifact_name=\"census_split\", \n",
    "                               file_name=\"census_train.csv\", \n",
    "                               tag=\"latest\", \n",
    "                               artifact_type='data')\n",
    "\n",
    "print(train_file_path)\n",
    "\n",
    "train_df = pd.read_csv(train_file_path, sep='\\t', encoding='utf-8')"
   ]
  },
  {
   "cell_type": "markdown",
   "id": "a7fcc9a7",
   "metadata": {},
   "source": [
    "# 3.2. feature engineering + log feature engineering artifacts\n",
    "\n",
    "artifacts to log\n",
    "\n",
    "- one-hot encoder\n",
    "- label binarizer"
   ]
  },
  {
   "cell_type": "code",
   "execution_count": null,
   "id": "eebfb726",
   "metadata": {},
   "outputs": [],
   "source": [
    "from joblib import dump"
   ]
  },
  {
   "cell_type": "code",
   "execution_count": null,
   "id": "10121ff0",
   "metadata": {},
   "outputs": [],
   "source": [
    "cat_features = [\n",
    "        \"workclass\",\n",
    "        \"education\",\n",
    "        \"marital-status\",\n",
    "        \"occupation\",\n",
    "        \"relationship\",\n",
    "        \"race\",\n",
    "        \"sex\",\n",
    "        \"native-country\"]\n",
    "\n",
    "label = \"salary\"\n",
    "\n",
    "X_train, y_train, encoder, lb = preprocess(train_df, categorical_features=cat_features, label=label, training=True)"
   ]
  },
  {
   "cell_type": "code",
   "execution_count": null,
   "id": "1c601112",
   "metadata": {},
   "outputs": [],
   "source": [
    "encoder_file_path = \"./../model/encoder.joblib\"\n",
    "label_binarizer_file_path = \"./../model/lb.joblib\"\n",
    "\n",
    "dump(encoder, encoder_file_path)\n",
    "dump(lb, label_binarizer_file_path)"
   ]
  },
  {
   "cell_type": "code",
   "execution_count": null,
   "id": "673bdccb",
   "metadata": {},
   "outputs": [],
   "source": [
    "metadata = {\n",
    "    \"categorical_feature\": cat_features,\n",
    "    \"label\" : label,\n",
    "    \"train_artifact_name\" : train_file_path.split(\"/\")[2].split(\":\")[0],\n",
    "    \"train_artifact_ver\" : train_file_path.split(\"/\")[2].split(\":\")[1],\n",
    "    \"train_file_name\" : train_file_path.split(\"/\")[3]\n",
    "}\n",
    "\n",
    "wandb_log_artifact(run, \"feature_engineering\", \n",
    "                   description=\"OneHotEncoder, LabelBinarizer\", \n",
    "                   file_path=[encoder_file_path, label_binarizer_file_path],\n",
    "                   artifact_type=\"feature_engineering_artifact\",\n",
    "                   metadata=metadata,\n",
    "                   remove_logged_file=True)"
   ]
  },
  {
   "cell_type": "code",
   "execution_count": null,
   "id": "310b3b31",
   "metadata": {},
   "outputs": [],
   "source": [
    "run.finish()"
   ]
  }
 ],
 "metadata": {
  "kernelspec": {
   "display_name": "Python 3 (ipykernel)",
   "language": "python",
   "name": "python3"
  },
  "language_info": {
   "codemirror_mode": {
    "name": "ipython",
    "version": 3
   },
   "file_extension": ".py",
   "mimetype": "text/x-python",
   "name": "python",
   "nbconvert_exporter": "python",
   "pygments_lexer": "ipython3",
   "version": "3.8.6"
  }
 },
 "nbformat": 4,
 "nbformat_minor": 5
}
